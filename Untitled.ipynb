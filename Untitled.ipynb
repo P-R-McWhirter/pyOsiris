{
 "cells": [
  {
   "cell_type": "code",
   "execution_count": 3,
   "metadata": {},
   "outputs": [],
   "source": [
    "import numpy as np\n",
    "from astropy.io import fits\n",
    "import matplotlib.pyplot as plt\n",
    "%matplotlib inline"
   ]
  },
  {
   "cell_type": "code",
   "execution_count": 4,
   "metadata": {},
   "outputs": [],
   "source": [
    "frame = fits.open('/home/rmcwhirter/Documents/GTC01-20BDDT/OB0001/obj_R1000B_master.fits')"
   ]
  },
  {
   "cell_type": "code",
   "execution_count": 5,
   "metadata": {},
   "outputs": [
    {
     "data": {
      "text/plain": [
       "array([[-1.40000000e+01, -3.57142857e+00, -1.31818182e+00, ...,\n",
       "        -1.76470588e-01, -1.63934426e-01,  4.34782609e-02],\n",
       "       [            nan,             nan,             nan, ...,\n",
       "                    nan,             inf,  0.00000000e+00],\n",
       "       [-2.32142857e-01,  0.00000000e+00, -6.42201835e-02, ...,\n",
       "        -6.96864111e-03,  1.39860140e-02,  0.00000000e+00],\n",
       "       ...,\n",
       "       [-1.72413793e-02,  1.25000000e+00,  6.66666667e-01, ...,\n",
       "         1.00000000e+00,  8.00000000e+00,  5.00000000e-01],\n",
       "       [ 3.39622642e-02,  1.25000000e+00,  8.00000000e+00, ...,\n",
       "        -2.00000000e+00, -1.33333333e+00,  1.00000000e+00],\n",
       "       [-2.74725275e-02,             nan, -3.50000000e+00, ...,\n",
       "        -6.25000000e-01,  2.00000000e-01, -1.00000000e+00]])"
      ]
     },
     "execution_count": 5,
     "metadata": {},
     "output_type": "execute_result"
    }
   ],
   "source": [
    "frame[0].data"
   ]
  },
  {
   "cell_type": "code",
   "execution_count": 6,
   "metadata": {},
   "outputs": [
    {
     "data": {
      "text/plain": [
       "<matplotlib.colorbar.Colorbar at 0x7f0ec5d96150>"
      ]
     },
     "execution_count": 6,
     "metadata": {},
     "output_type": "execute_result"
    },
    {
     "data": {
      "image/png": "[encoded data removed]",
      "text/plain": [
       "<Figure size 432x288 with 2 Axes>"
      ]
     },
     "metadata": {
      "needs_background": "light"
     },
     "output_type": "display_data"
    }
   ],
   "source": [
    "plt.figure()\n",
    "plt.imshow(frame[0].data, cmap='gray')\n",
    "plt.colorbar()"
   ]
  },
  {
   "cell_type": "code",
   "execution_count": null,
   "metadata": {},
   "outputs": [],
   "source": []
  }
 ],
 "metadata": {
  "kernelspec": {
   "display_name": "Python 3",
   "language": "python",
   "name": "python3"
  },
  "language_info": {
   "codemirror_mode": {
    "name": "ipython",
    "version": 3
   },
   "file_extension": ".py",
   "mimetype": "text/x-python",
   "name": "python",
   "nbconvert_exporter": "python",
   "pygments_lexer": "ipython3",
   "version": "3.7.6"
  }
 },
 "nbformat": 4,
 "nbformat_minor": 4
}
